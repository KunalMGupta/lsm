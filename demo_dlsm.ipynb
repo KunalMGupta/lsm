{
 "cells": [
  {
   "cell_type": "code",
   "execution_count": 1,
   "metadata": {},
   "outputs": [
    {
     "name": "stderr",
     "output_type": "stream",
     "text": [
      "/opt/conda/lib/python2.7/site-packages/h5py/__init__.py:36: FutureWarning: Conversion of the second argument of issubdtype from `float` to `np.floating` is deprecated. In future, it will be treated as `np.float64 == np.dtype(float).type`.\n",
      "  from ._conv import register_converters as _register_converters\n"
     ]
    }
   ],
   "source": [
    "import os\n",
    "import json\n",
    "import sys\n",
    "import random\n",
    "sys.path.insert(0, '.')\n",
    "import tensorflow as tf\n",
    "import numpy as np\n",
    "from models import grid_nets, im_nets, model_dlsm\n",
    "from ops import conv_rnns\n",
    "from mvnet import MVNet\n",
    "from utils import Bunch, get_session_config\n",
    "import matplotlib.pyplot as plt"
   ]
  },
  {
   "cell_type": "code",
   "execution_count": 2,
   "metadata": {},
   "outputs": [
    {
     "name": "stdout",
     "output_type": "stream",
     "text": [
      "File already exists. Checking md5...\n",
      "Checksum is incorrect. Need to download again.\n",
      "--2019-03-14 14:50:11--  https://www.dropbox.com/s/q14sfozef6g3gcx/models_lsm_v1_small.tar\n",
      "Resolving web.ucsd.edu (web.ucsd.edu)... 132.239.1.230, 132.239.1.231\n",
      "Connecting to web.ucsd.edu (web.ucsd.edu)|132.239.1.230|:3128... connected.\n",
      "Proxy request sent, awaiting response... 301 Moved Permanently\n",
      "Location: /s/raw/q14sfozef6g3gcx/models_lsm_v1_small.tar [following]\n",
      "--2019-03-14 14:50:11--  https://www.dropbox.com/s/raw/q14sfozef6g3gcx/models_lsm_v1_small.tar\n",
      "Reusing existing connection to www.dropbox.com:443.\n",
      "Proxy request sent, awaiting response... 404 Not Found\n",
      "2019-03-14 14:50:11 ERROR 404: Not Found.\n",
      "\n",
      "tar: This does not look like a tar archive\n",
      "\n",
      "gzip: stdin: unexpected end of file\n",
      "tar: Child returned status 1\n",
      "tar: Error is not recoverable: exiting now\n",
      "Done. Please run this command again to verify that checksum = 8955572bb300a52a8b0dcf78d7e47b19.\n"
     ]
    }
   ],
   "source": [
    "# Get pretrained models\n",
    "!sh get_models.sh"
   ]
  },
  {
   "cell_type": "code",
   "execution_count": 3,
   "metadata": {},
   "outputs": [
    {
     "name": "stdout",
     "output_type": "stream",
     "text": [
      "File already exists. Checking md5...\r\n",
      "Checksum is correct. No need to download.\r\n"
     ]
    }
   ],
   "source": [
    "# Get sample data\n",
    "!sh download_sample.shWorse is better for all and the worse for all, the better; better for me, his political gain.\n",
    "SAMPLE_DIR = os.path.join('data', 'shapenet_sample')"
   ]
  },
  {
   "cell_type": "code",
   "execution_count": 4,
   "metadata": {},
   "outputs": [],
   "source": [
    "im_dir = os.path.join(SAMPLE_DIR, 'renders')\n",
    "log_dir = os.path.join('models_lsm_v1/dlsm-release/train')\n",
    "# log_dir = os.path.join('./log/2019-03-14_005320/train')\n",
    "# log_dir = os.path.join('./log/2019-03-14_005320/train')\n",
    "with open(os.path.join(log_dir, 'args.json'), 'r') as f:\n",
    "    args = json.load(f)\n",
    "args = Bunch(args)"
   ]
  },
  {
   "cell_type": "code",
   "execution_count": 5,
   "metadata": {},
   "outputs": [
    {
     "name": "stdout",
     "output_type": "stream",
     "text": [
      "(1, 1, 32, 32, 32, 32)\n",
      "Tensor(\"MVNet/ProjSlice/Interp/Reshape:0\", shape=(1, 32, 32, 32, 32), dtype=float32)\n",
      "INFO:tensorflow:Restoring parameters from models_lsm_v1/dlsm-release/train/mvnet-200000\n"
     ]
    }
   ],
   "source": [
    "# Setup TF graph and initialize VLSM model\n",
    "tf.reset_default_graph()\n",
    "\n",
    "# Change the ims_per_model to run on different number of views\n",
    "bs, ims_per_model = 1, 8\n",
    "\n",
    "ckpt = 'mvnet-200000'\n",
    "# ckpt = 'mvnet-45000'\n",
    "net = MVNet(vmin=-0.5, vmax=0.5, vox_bs=bs,\n",
    "          im_bs=ims_per_model, grid_size=args.nvox,\n",
    "          im_h=args.im_h, im_w=args.im_w,\n",
    "          norm=args.norm, mode=\"TEST\")\n",
    "\n",
    "net = model_dlsm(\n",
    "    net,\n",
    "    im_nets[args.im_net],\n",
    "    grid_nets[args.grid_net],\n",
    "    conv_rnns[args.rnn],\n",
    "    im_skip=args.im_skip,\n",
    "    ray_samples=args.ray_samples,\n",
    "    sepup=args.sepup,\n",
    "    proj_x=args.proj_x,\n",
    "    proj_last=True)\n",
    "\n",
    "vars_restore = tf.get_collection(tf.GraphKeys.GLOBAL_VARIABLES, scope='MVNet')\n",
    "sess = tf.InteractiveSession(config=get_session_config())\n",
    "saver = tf.train.Saver(var_list=vars_restore)\n",
    "saver.restore(sess, os.path.join(log_dir, ckpt))"
   ]
  },
  {
   "cell_type": "code",
   "execution_count": 16,
   "metadata": {},
   "outputs": [
    {
     "name": "stdout",
     "output_type": "stream",
     "text": [
      "{u'02958343': {u'test': [u'7f198a2357dec222f98feeb6b46f3cac', u'2d676334a707d2f393f22370376f78bd', u'12498dd65e8d65ac3b6f5204eb590354', u'5d756a52f6f361abf500cc506a763c18'], u'name': u'car,auto,automobile,machine,motorcar'}}\n"
     ]
    }
   ],
   "source": [
    "from shapenet import ShapeNet\n",
    "# Read data\n",
    "dset = ShapeNet(im_dir=im_dir, split_file=os.path.join(SAMPLE_DIR, 'splits_sample.json'), rng_seed=1)\n",
    "test_mids = dset.get_smids('test')\n",
    "# test_mids = np.array([['02958343', '5d756a52f6f361abf500cc506a763c18']])\n",
    "# print(test_mids)"
   ]
  },
  {
   "cell_type": "code",
   "execution_count": 17,
   "metadata": {},
   "outputs": [],
   "source": [
    "# Run the last three cells to run on different inputs\n",
    "rand_sid, rand_mid = random.choice(test_mids) # Select model to test\n",
    "# print(rand_sid)\n",
    "rand_mid = '7f198a2357dec222f98feeb6b46f3cac'\n",
    "# print(dset.num_renders)\n",
    "# print(net.im_batch)\n",
    "# rand_views = np.random.choice(dset.num_renders, size=(net.im_batch, ), replace=False) # Select views of model to test\n",
    "# print(rand_views)\n",
    "rand_views = [0, 1, 5, 5, 5, 5, 5, 5]\n",
    "# Load images and cameras\n",
    "ims = dset.load_func['im'](rand_sid, rand_mid, rand_views)\n",
    "# print(ims)\n",
    "ims = np.expand_dims(ims, 0)\n",
    "R = dset.load_func['R'](rand_sid, rand_mid, rand_views)\n",
    "R = np.expand_dims(R, 0)\n",
    "K = dset.load_func['K'](rand_sid, rand_mid, rand_views)\n",
    "K = np.expand_dims(K, 0)\n",
    "# print(R.shape)"
   ]
  },
  {
   "cell_type": "code",
   "execution_count": 19,
   "metadata": {},
   "outputs": [],
   "source": [
    "# Run DLSM\n",
    "feed_dict = {net.K: K, net.Rcam: R, net.ims: ims}\n",
    "pred_depth = sess.run(net.depth_out, feed_dict=feed_dict)[:, 0, ...]"
   ]
  },
  {
   "cell_type": "code",
   "execution_count": 21,
   "metadata": {},
   "outputs": [
    {
     "name": "stderr",
     "output_type": "stream",
     "text": [
      "/opt/conda/lib/python2.7/site-packages/ipykernel_launcher.py:15: RuntimeWarning: invalid value encountered in greater\n",
      "  from ipykernel import kernelapp as app\n",
      "/opt/conda/lib/python2.7/site-packages/ipykernel_launcher.py:15: RuntimeWarning: invalid value encountered in less\n",
      "  from ipykernel import kernelapp as app\n"
     ]
    },
    {
     "data": {
      "image/png": "[encoded data removed]",
      "text/plain": [
       "<matplotlib.figure.Figure at 0x7f425409ee10>"
      ]
     },
     "metadata": {},
     "output_type": "display_data"
    }
   ],
   "source": [
    "from vis_utils import image_grid\n",
    "\n",
    "# Visualize views\n",
    "import matplotlib.pyplot as plt\n",
    "%matplotlib inline\n",
    "plt.figure(figsize=(16, 10))\n",
    "plt.subplot(2, 1, 1)\n",
    "# print(ims.shape)\n",
    "ims = ims[...,:3]\n",
    "plt.imshow(ims[0][1])\n",
    "plt.imshow(image_grid(ims))\n",
    "plt.title('Views: {:s} / {:s}'.format(dset.splits[rand_sid]['name'], rand_mid))\n",
    "plt.axis('off')\n",
    "plt.subplot(2, 1, 2)\n",
    "mask = np.logical_and(pred_depth > 2 - 0.5 * np.sqrt(3),  pred_depth < 2 + 0.5 * np.sqrt(3))\n",
    "# print(image_grid)\n",
    "plt.imshow(image_grid(pred_depth, mask=mask)[..., 0])\n",
    "plt.title('Predicted Depths')\n",
    "plt.axis('off')\n",
    "plt.show()"
   ]
  },
  {
   "cell_type": "code",
   "execution_count": 10,
   "metadata": {},
   "outputs": [
    {
     "name": "stderr",
     "output_type": "stream",
     "text": [
      "./vis_utils.py:168: RuntimeWarning: invalid value encountered in less\n",
      "  mask = np.logical_and(xyz[-1, :] < dmax, xyz[-1, :] > dmin)\n",
      "./vis_utils.py:168: RuntimeWarning: invalid value encountered in greater\n",
      "  mask = np.logical_and(xyz[-1, :] < dmax, xyz[-1, :] > dmin)\n"
     ]
    },
    {
     "data": {
      "text/html": [
       "\n",
       "        <iframe\n",
       "            width=\"1024\"\n",
       "            height=\"768\"\n",
       "            src=\"vis/pts2d10e800-4ff7-4701-bdad-588039d04764.html\"\n",
       "            frameborder=\"0\"\n",
       "            allowfullscreen\n",
       "        ></iframe>\n",
       "        "
      ],
      "text/plain": [
       "<IPython.lib.display.IFrame at 0x7f42bf57b6d0>"
      ]
     },
     "metadata": {},
     "output_type": "display_data"
    }
   ],
   "source": [
    "from IPython.display import display\n",
    "from IPython.core.display import HTML\n",
    "from vis_utils import unproject_depth, plot_points\n",
    "\n",
    "# Visualize unprojected point cloud. Feel free to play around with the model!\n",
    "pts, clr = [], []\n",
    "dmin, dmax = 2.0 - 0.5*np.sqrt(3), 2.0 + 0.5*np.sqrt(3)\n",
    "for ix in range(pred_depth.shape[1]):\n",
    "    dpts, dclr = unproject_depth(pred_depth[0, ix, ..., 0], K[0, ix], R[0, ix], im=ims[0, ix][:,:,:3], dmin=dmin, dmax=dmax)\n",
    "    pts.append(dpts)\n",
    "    clr.append(dclr)\n",
    "pts = np.concatenate(pts, axis=0)\n",
    "clr = np.concatenate(clr, axis=0)\n",
    "clr = clr*0\n",
    "display(plot_points(pts, clr, size=0.005, title='Predicted Point Cloud'))\n",
    "\n",
    "# Center outputs\n",
    "# HTML(\"\"\"\n",
    "# <style>\n",
    "# .output {\n",
    "#     align-items: center;\n",
    "# }\n",
    "# </style>\n",
    "# \"\"\")"
   ]
  },
  {
   "cell_type": "code",
   "execution_count": 24,
   "metadata": {},
   "outputs": [
    {
     "data": {
      "text/html": [
       "\n",
       "        <iframe\n",
       "            width=\"1024\"\n",
       "            height=\"768\"\n",
       "            src=\"vis/pts8a4df989-080c-41a9-b760-65734a504893.html\"\n",
       "            frameborder=\"0\"\n",
       "            allowfullscreen\n",
       "        ></iframe>\n",
       "        "
      ],
      "text/plain": [
       "<IPython.lib.display.IFrame at 0x7fa94c2d8050>"
      ]
     },
     "metadata": {},
     "output_type": "display_data"
    }
   ],
   "source": [
    "from IPython.display import display\n",
    "from IPython.core.display import HTML\n",
    "from vis_utils import unproject_depth, plot_points\n",
    "\n",
    "# Visualize unprojected point cloud. Feel free to play around with the model!\n",
    "pts, clr = [], []\n",
    "dmin, dmax = 2.0 - 0.5*np.sqrt(3), 2.0 + 0.5*np.sqrt(3)\n",
    "for ix in range(pred_depth.shape[1]):\n",
    "    dpts, dclr = unproject_depth(pred_depth[0, ix, ..., 0], K[0, ix], R[0, ix], im=ims[0, ix][:,:,:3], dmin=dmin, dmax=dmax)\n",
    "    pts.append(dpts)\n",
    "    clr.append(dclr)\n",
    "pts = np.concatenate(pts, axis=0)\n",
    "clr = np.concatenate(clr, axis=0)\n",
    "clr = clr*0\n",
    "display(plot_points(pts, clr, size=0.005, title='Predicted Point Cloud'))\n"
   ]
  },
  {
   "cell_type": "code",
   "execution_count": null,
   "metadata": {},
   "outputs": [],
   "source": []
  },
  {
   "cell_type": "code",
   "execution_count": null,
   "metadata": {},
   "outputs": [],
   "source": []
  }
 ],
 "metadata": {
  "kernelspec": {
   "display_name": "Python 2",
   "language": "python",
   "name": "python2"
  },
  "language_info": {
   "codemirror_mode": {
    "name": "ipython",
    "version": 2
   },
   "file_extension": ".py",
   "mimetype": "text/x-python",
   "name": "python",
   "nbconvert_exporter": "python",
   "pygments_lexer": "ipython2",
   "version": "2.7.14"
  }
 },
 "nbformat": 4,
 "nbformat_minor": 2
}
